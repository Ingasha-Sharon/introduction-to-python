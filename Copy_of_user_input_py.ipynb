{
  "nbformat": 4,
  "nbformat_minor": 0,
  "metadata": {
    "colab": {
      "provenance": [],
      "authorship_tag": "ABX9TyMGeFatIpcXtUGXWFMCpjFh",
      "include_colab_link": true
    },
    "kernelspec": {
      "name": "python3",
      "display_name": "Python 3"
    },
    "language_info": {
      "name": "python"
    }
  },
  "cells": [
    {
      "cell_type": "markdown",
      "metadata": {
        "id": "view-in-github",
        "colab_type": "text"
      },
      "source": [
        "<a href=\"https://colab.research.google.com/github/Ingasha-Sharon/user-input/blob/main/Copy_of_user_input_py.ipynb\" target=\"_parent\"><img src=\"https://colab.research.google.com/assets/colab-badge.svg\" alt=\"Open In Colab\"/></a>"
      ]
    },
    {
      "cell_type": "code",
      "execution_count": 1,
      "metadata": {
        "id": "cWyddjXOVO-R",
        "colab": {
          "base_uri": "https://localhost:8080/"
        },
        "outputId": "0589fd8b-52fb-4cab-a450-1ae2702e51e5"
      },
      "outputs": [
        {
          "output_type": "stream",
          "name": "stdout",
          "text": [
            "What is your name? INGASHA SHARON\n",
            "How old are you? 24\n",
            "Where do you live? KITALE\n",
            "Hello INGASHA SHARON, you are 24 years old and live in KITALE.\n"
          ]
        }
      ],
      "source": [
        "# user_input.py\n",
        "\n",
        "# Ask for the user's name\n",
        "name = input(\"What is your name? \")\n",
        "\n",
        "# Ask for the user's age\n",
        "age = input(\"How old are you? \")\n",
        "\n",
        "# Ask for the user's location\n",
        "location = input(\"Where do you live? \")\n",
        "\n",
        "# Print out a personalized message\n",
        "print(f\"Hello {name}, you are {age} years old and live in {location}.\")\n"
      ]
    }
  ]
}